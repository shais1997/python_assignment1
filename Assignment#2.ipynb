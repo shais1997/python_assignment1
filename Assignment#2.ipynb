{
 "cells": [
  {
   "cell_type": "code",
   "execution_count": null,
   "metadata": {},
   "outputs": [],
   "source": [
    "#Q1 Mark Sheet\n",
    "a=int(input('Enter the math marks'))\n",
    "b=int(input('Enter the English marks'))\n",
    "c=int(input('Enter the urdu marks'))\n",
    "d=int(input('Enter the Islamiat marks'))\n",
    "e=int(input('Enter the computer marks'))\n",
    "sum=a+b+c+d+e\n",
    "print('Total marks ='+str(sum))\n",
    "per=sum/500*100\n",
    "print('Your percentage='+str(per))\n",
    "if per>=80 and per<=100:\n",
    "    print('Grade A+')\n",
    "elif per>=70 and per<80:\n",
    "    print('Grade A')\n",
    "elif per>=60 and Per<70:\n",
    "    print('Grade B')\n",
    "elif per>=50 and Per<60:\n",
    "    print('Grade C')\n",
    "elif per>=40 and Per<50:\n",
    "    print('Grade D')\n",
    "elif per<40:\n",
    "    print('Fail')\n",
    "else:\n",
    "    print('you have enter inappropriate marks')"
   ]
  },
  {
   "cell_type": "code",
   "execution_count": 2,
   "metadata": {},
   "outputs": [
    {
     "name": "stdout",
     "output_type": "stream",
     "text": [
      "please enter any numer5\n",
      "Given number is odd\n"
     ]
    }
   ],
   "source": [
    "#Q2 we have to check given input is even or odd\n",
    "a=int(input('please enter any numer'))\n",
    "b=a%2\n",
    "if b==0:\n",
    "    print('Given number is even')\n",
    "else:\n",
    "    print('Given number is odd')"
   ]
  },
  {
   "cell_type": "code",
   "execution_count": 11,
   "metadata": {},
   "outputs": [
    {
     "name": "stdout",
     "output_type": "stream",
     "text": [
      "The lenght of list are =4\n"
     ]
    }
   ],
   "source": [
    "#Q3 lenth of list\n",
    "a=['shais','irfan',23,'ayesha']\n",
    "lenth=len(a)\n",
    "print('The lenght of list are =' + str(lenth))"
   ]
  },
  {
   "cell_type": "code",
   "execution_count": 14,
   "metadata": {},
   "outputs": [
    {
     "name": "stdout",
     "output_type": "stream",
     "text": [
      "247\n"
     ]
    }
   ],
   "source": [
    "#Q4 sum of numbers in list\n",
    "a=[23,67,67,90]\n",
    "total=sum(a)\n",
    "print(total)"
   ]
  },
  {
   "cell_type": "code",
   "execution_count": 15,
   "metadata": {},
   "outputs": [
    {
     "name": "stdout",
     "output_type": "stream",
     "text": [
      "largest number in list are =76\n"
     ]
    }
   ],
   "source": [
    "#Q5 largest number in list\n",
    "a=[34,56,5,76]\n",
    "b=max(a)\n",
    "print('largest number in list are ='+str(b))"
   ]
  },
  {
   "cell_type": "code",
   "execution_count": 21,
   "metadata": {},
   "outputs": [
    {
     "name": "stdout",
     "output_type": "stream",
     "text": [
      "1\n",
      "1\n",
      "2\n",
      "3\n",
      "1\n"
     ]
    }
   ],
   "source": [
    "#Q6 print number\n",
    "a=[1,1,2,3,5,8,1,13,21,34,55,89]\n",
    "for c in a:\n",
    "    if c<5:\n",
    "        print(c)"
   ]
  },
  {
   "cell_type": "code",
   "execution_count": null,
   "metadata": {},
   "outputs": [],
   "source": []
  }
 ],
 "metadata": {
  "kernelspec": {
   "display_name": "Python 3",
   "language": "python",
   "name": "python3"
  },
  "language_info": {
   "codemirror_mode": {
    "name": "ipython",
    "version": 3
   },
   "file_extension": ".py",
   "mimetype": "text/x-python",
   "name": "python",
   "nbconvert_exporter": "python",
   "pygments_lexer": "ipython3",
   "version": "3.7.4"
  }
 },
 "nbformat": 4,
 "nbformat_minor": 2
}
