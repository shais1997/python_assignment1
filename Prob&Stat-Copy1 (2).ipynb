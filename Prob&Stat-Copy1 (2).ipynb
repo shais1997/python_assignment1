{
 "cells": [
  {
   "cell_type": "code",
   "execution_count": 1,
   "metadata": {},
   "outputs": [
    {
     "name": "stdout",
     "output_type": "stream",
     "text": [
      "Helllo World\n"
     ]
    }
   ],
   "source": [
    "# how print hello wotld in pyhton \n",
    "print(\"Helllo World\")"
   ]
  },
  {
   "cell_type": "code",
   "execution_count": 2,
   "metadata": {},
   "outputs": [
    {
     "name": "stdout",
     "output_type": "stream",
     "text": [
      "Omama Tahir\n"
     ]
    }
   ],
   "source": [
    "# how to declare a varaiable in pyhton\n",
    "First_Name = \"Omama\"\n",
    "Last_Name = \"Tahir\"\n",
    "print(First_Name+ \" \"+Last_Name)"
   ]
  },
  {
   "cell_type": "code",
   "execution_count": 3,
   "metadata": {},
   "outputs": [
    {
     "name": "stdout",
     "output_type": "stream",
     "text": [
      "15\n"
     ]
    }
   ],
   "source": [
    "num1=5\n",
    "num2=10\n",
    "num3=num1+num2\n",
    "print(num3)"
   ]
  },
  {
   "cell_type": "code",
   "execution_count": 4,
   "metadata": {},
   "outputs": [
    {
     "name": "stdout",
     "output_type": "stream",
     "text": [
      "105\n"
     ]
    }
   ],
   "source": [
    "x=\"10\"\n",
    "y=\"5\"\n",
    "c=x+y\n",
    "print(c)"
   ]
  },
  {
   "cell_type": "code",
   "execution_count": 5,
   "metadata": {},
   "outputs": [
    {
     "name": "stdout",
     "output_type": "stream",
     "text": [
      "12.05\n"
     ]
    }
   ],
   "source": [
    "num = 0.05\n",
    "total = num+12\n",
    "print(total)"
   ]
  },
  {
   "cell_type": "code",
   "execution_count": 6,
   "metadata": {},
   "outputs": [
    {
     "name": "stdout",
     "output_type": "stream",
     "text": [
      "24\n",
      "10\n",
      "20\n",
      "0\n"
     ]
    }
   ],
   "source": [
    "num=12\n",
    "num = num +12\n",
    "print(num)\n",
    "num = 12-2\n",
    "print(num)\n",
    "num = num * 2\n",
    "print(num)\n",
    "num = 12%2\n",
    "print(num)"
   ]
  },
  {
   "cell_type": "code",
   "execution_count": 7,
   "metadata": {},
   "outputs": [
    {
     "name": "stdout",
     "output_type": "stream",
     "text": [
      "13\n",
      "16\n"
     ]
    }
   ],
   "source": [
    "total_Cost = 1+3*4\n",
    "print(total_Cost)\n",
    "total_Cost = (1+3)*4\n",
    "print(total_Cost)"
   ]
  },
  {
   "cell_type": "code",
   "execution_count": 8,
   "metadata": {},
   "outputs": [
    {
     "name": "stdout",
     "output_type": "stream",
     "text": [
      "Enter a value: 12\n",
      "27\n"
     ]
    }
   ],
   "source": [
    "\"\"\"\n",
    "input always take the value as string\n",
    "use int to convert str into int\n",
    "\"\"\"\n",
    "x=int(input(\"Enter a value: \"))\n",
    "y=15;\n",
    "result=x+y\n",
    "print(result)"
   ]
  },
  {
   "cell_type": "code",
   "execution_count": 9,
   "metadata": {
    "scrolled": true
   },
   "outputs": [
    {
     "name": "stdout",
     "output_type": "stream",
     "text": [
      "Enter a FirstName: Omama\n",
      "Enter a LastNmae: Muhammad Tahir\n",
      "Muhammad Tahir Omama\n"
     ]
    }
   ],
   "source": [
    "#print name in reverve order\n",
    "fname=input(\"Enter a FirstName: \")\n",
    "lname=input(\"Enter a LastNmae: \")\n",
    "print(lname+\" \"+fname)"
   ]
  },
  {
   "cell_type": "code",
   "execution_count": 10,
   "metadata": {},
   "outputs": [
    {
     "name": "stdout",
     "output_type": "stream",
     "text": [
      "Twinkle, twinkle, little star,\n",
      "      How I wonder what you are!\n",
      "           Up above the world so high,\n",
      "           Like a diamond in the sky.\n",
      "Twinkle, twinkle, little star,\n",
      "      How I wonder what you are\n"
     ]
    }
   ],
   "source": [
    "print(\"Twinkle, twinkle, little star,\")\n",
    "print(\"      How I wonder what you are!\")\n",
    "print(\"           Up above the world so high,\")\n",
    "print(\"           Like a diamond in the sky.\")\n",
    "print(\"Twinkle, twinkle, little star,\")\n",
    "print(\"      How I wonder what you are\")"
   ]
  },
  {
   "cell_type": "code",
   "execution_count": 11,
   "metadata": {},
   "outputs": [
    {
     "name": "stdout",
     "output_type": "stream",
     "text": [
      "Enter a Value12\n",
      "Enter a Value12\n",
      "24\n"
     ]
    }
   ],
   "source": [
    "x=int(input(\"Enter a Value\"))\n",
    "y=int(input(\"Enter a Value\"))\n",
    "z=x+y\n",
    "print(z)"
   ]
  },
  {
   "cell_type": "code",
   "execution_count": 12,
   "metadata": {},
   "outputs": [
    {
     "name": "stdout",
     "output_type": "stream",
     "text": [
      "Enter a value to calculate the radius of the circle: 12\n",
      "The area of the circle with radius 12.0 is: 452.3893421169302\n"
     ]
    }
   ],
   "source": [
    "from math import pi\n",
    "r=float(input(\"Enter a value to calculate the radius of the circle: \"))\n",
    "print (\"The area of the circle with radius \" + str(r) + \" is: \" + str(pi * r**2))\n"
   ]
  },
  {
   "cell_type": "code",
   "execution_count": null,
   "metadata": {},
   "outputs": [],
   "source": [
    "#MarkSheet\n",
    "English=int(input(\"Enter a English Number: \"))\n",
    "Urdu=int(input(\"Enter a Urdu Number: \"))\n",
    "Math=int(input(\"Enter a Math: \"))\n",
    "Physics=int(input(\"Enter a Physics: \"))\n",
    "Islamiat=int(input(\"Enter a Islamiat: \"))\n",
    "Total=(English+Urdu+Math+Physics+Islamiat)\n",
    "per=(Total*100)/500\n",
    "if (per>80) :\n",
    "    print(\"Grade: A+\")\n",
    "elif(per>70):\n",
    "    print(\"Grade: A\")\n",
    "elif(per>60):\n",
    "    print(\"Grade: B\")\n",
    "elif(per>50):\n",
    "    print(\"Grade: C\")\n",
    "elif(per>40):\n",
    "    print(\" Grade:D\")\n",
    "else:\n",
    "    print(\"You are Faild\")\n",
    "    "
   ]
  },
  {
   "cell_type": "code",
   "execution_count": 14,
   "metadata": {},
   "outputs": [
    {
     "name": "stdout",
     "output_type": "stream",
     "text": [
      "Enter a Number to check it is Even or Odd: 345\n",
      "Number is Odd:345 \n"
     ]
    }
   ],
   "source": [
    "#even or odd program\n",
    "num=int(input(\"Enter a Number to check it is Even or Odd: \"))\n",
    "if (num % 2) == 0:\n",
    "    print(\"Number is Even:{0} \".format(num))\n",
    "else:\n",
    "    print(\"Number is Odd:{0} \".format(num))"
   ]
  },
  {
   "cell_type": "code",
   "execution_count": 15,
   "metadata": {},
   "outputs": [
    {
     "name": "stdout",
     "output_type": "stream",
     "text": [
      "The Length =  4\n"
     ]
    }
   ],
   "source": [
    " #length function\n",
    "n=len([1,2,3,4])\n",
    "print(\"The Length = \",n)"
   ]
  },
  {
   "cell_type": "code",
   "execution_count": 16,
   "metadata": {},
   "outputs": [
    {
     "name": "stdout",
     "output_type": "stream",
     "text": [
      "20\n"
     ]
    }
   ],
   "source": [
    "#sum of list using sum function \n",
    "num=[1,2,3,4,6,4]\n",
    "add=sum(num)\n",
    "print(add)"
   ]
  },
  {
   "cell_type": "code",
   "execution_count": 17,
   "metadata": {},
   "outputs": [
    {
     "name": "stdout",
     "output_type": "stream",
     "text": [
      "23\n"
     ]
    }
   ],
   "source": [
    "#sum of list using max function\n",
    "num=[1,2,3,4,6,4,23]\n",
    "max_n=max(num)\n",
    "print(max_n)"
   ]
  },
  {
   "cell_type": "code",
   "execution_count": 18,
   "metadata": {},
   "outputs": [
    {
     "name": "stdout",
     "output_type": "stream",
     "text": [
      "-1\n"
     ]
    }
   ],
   "source": [
    "#sum of list using min function\n",
    "num=[1,2,3,4,6,4,-1]\n",
    "min_n=min(num)\n",
    "print(min_n)"
   ]
  },
  {
   "cell_type": "code",
   "execution_count": 19,
   "metadata": {},
   "outputs": [
    {
     "name": "stdout",
     "output_type": "stream",
     "text": [
      "The Mean of given   [1,2,3,4,5] = 3.0\n"
     ]
    }
   ],
   "source": [
    "# mean of ungrounp data\n",
    "element=[1,2,3,4,5]\n",
    "add=sum(element)\n",
    "length=len(element)\n",
    "div=add/length\n",
    "print( \"The Mean of given  \",'[1,2,3,4,5]','=',div)"
   ]
  },
  {
   "cell_type": "code",
   "execution_count": 20,
   "metadata": {},
   "outputs": [
    {
     "name": "stdout",
     "output_type": "stream",
     "text": [
      "The Median of given  [1,2,6,23,28] = 6\n"
     ]
    }
   ],
   "source": [
    "# median of ungrounp data\n",
    "import statistics\n",
    "element=[1,2,6,23,28]\n",
    "print(\"The Median of given \",'[1,2,6,23,28]','=',statistics.median(element))\n"
   ]
  },
  {
   "cell_type": "code",
   "execution_count": 21,
   "metadata": {},
   "outputs": [
    {
     "name": "stdout",
     "output_type": "stream",
     "text": [
      "The Mode of given  [1,2,6,3,4,3,23,28] = 3\n"
     ]
    }
   ],
   "source": [
    "# mode of ungrounp data\n",
    "import statistics\n",
    "element=[1,2,6,3,4,3,23,28]\n",
    "print(\"The Mode of given \",'[1,2,6,3,4,3,23,28]','=',statistics.mode(element))"
   ]
  },
  {
   "cell_type": "code",
   "execution_count": 22,
   "metadata": {},
   "outputs": [
    {
     "name": "stdout",
     "output_type": "stream",
     "text": [
      "[  8  26  54 115 112  99  76]\n",
      "490\n",
      "20\n",
      "Mean =  24.5\n"
     ]
    }
   ],
   "source": [
    "# mean of grounp data \n",
    "import numpy as np\n",
    "frequency=np.array([1,2,3,5,4,3,2])\n",
    "X=np.array([8,13,18,23,28,33,38])\n",
    "#frequency multiple by X\n",
    "print(frequency*X)\n",
    "# add multiple frequency\n",
    "add=sum(frequency*X)\n",
    "print(add)\n",
    "#sum of frequency\n",
    "sum1=sum(frequency)\n",
    "print(sum1)\n",
    "mean=add/sum1\n",
    "print(\"Mean = \",mean)\n"
   ]
  },
  {
   "cell_type": "code",
   "execution_count": 23,
   "metadata": {},
   "outputs": [
    {
     "name": "stdout",
     "output_type": "stream",
     "text": [
      "CLASS LIMIT AND FREQUENCY\n",
      "The frequency of A = 5\n",
      "The frequency of B = 7\n",
      "The frequency of AB = 4\n",
      "The frequency of O = 9\n",
      "Enter the frequency for tally marks: 5\n",
      "||||-   \n",
      "Input a positive number:7\n",
      "||||-   ||\n",
      "Input a positive number:4\n",
      "||||\n",
      "Input a positive number:9\n",
      "||||-   ||||\n",
      "\n",
      "THE SUM OF FREQUENCY\n",
      "The sum of frequency =  25\n",
      "\n",
      "THE RELATIVE FREQUENCY\n",
      "The Relative frequency =  0.2\n",
      "The Relative frequency =  0.28\n",
      "The Relative frequency =  0.16\n",
      "The Relative frequency =  0.36\n",
      "\n",
      "The percentage =  20.0\n",
      "The percentage =   28.000000000000004\n",
      "The percentage =  16.0\n",
      "The percentage =  36.0\n"
     ]
    }
   ],
   "source": [
    "import turtle\n",
    "alphabet=['A','B','B','AB','O'\n",
    "         ,'O','O','B','AB','B'\n",
    "         ,'B','B','O','A','O'\n",
    "         ,'A','O','O','O','AB',\n",
    "         'AB','A','O','B','A']\n",
    "\n",
    "print(\"CLASS LIMIT AND FREQUENCY\")\n",
    "counter1 = alphabet.count('A')\n",
    "print(\"The frequency of A =\",counter1 )\n",
    "counter2 = alphabet.count('B')\n",
    "print(\"The frequency of B =\",counter2 )\n",
    "counter3 = alphabet.count('AB')\n",
    "print(\"The frequency of AB =\",counter3 )\n",
    "counter4 = alphabet.count('O')\n",
    "print(\"The frequency of O =\",counter4 )\n",
    "number = int(input(\"Enter the frequency for tally marks: \"))\n",
    "quotient = number // 5\n",
    "remainder = number % 5\n",
    "tallyMarks = \"||||-   \" * quotient + \"|\" * remainder\n",
    "print(tallyMarks)\n",
    "\n",
    "number1 = int(input(\"Input a positive number:\"))\n",
    "quotient = number1 // 5\n",
    "remainder = number1 % 5\n",
    "tallyMarks = \"||||-   \" * quotient + \"|\" * remainder\n",
    "print(tallyMarks)\n",
    "\n",
    "number2 = int(input(\"Input a positive number:\"))\n",
    "quotient = number2 // 5\n",
    "remainder = number2 % 5\n",
    "tallyMarks = \"||||-   \" * quotient + \"|\" * remainder\n",
    "print(tallyMarks)\n",
    "\n",
    "number3 = int(input(\"Input a positive number:\"))\n",
    "quotient = number3 // 5\n",
    "remainder = number3 % 5\n",
    "tallyMarks = \"||||-   \" * quotient + \"|\" * remainder\n",
    "print(tallyMarks)\n",
    "print(\"\\nTHE SUM OF FREQUENCY\")\n",
    "add=counter1+counter2+counter3+counter4\n",
    "print(\"The sum of frequency = \",add)\n",
    "print(\"\\nTHE RELATIVE FREQUENCY\")\n",
    "rf1=counter1/add\n",
    "print(\"The Relative frequency = \",rf1)\n",
    "rf2=counter2/add\n",
    "print(\"The Relative frequency = \",rf2)\n",
    "rf3=counter3/add\n",
    "print(\"The Relative frequency = \",rf3)\n",
    "rf4=counter4/add\n",
    "print(\"The Relative frequency = \",rf4)\n",
    "per1=rf1*100\n",
    "print(\"\\nThe percentage = \",per1)\n",
    "per2=rf2*100\n",
    "print(\"The percentage =  \",per2)\n",
    "per3=rf3*100\n",
    "print(\"The percentage = \",per3)\n",
    "per4=rf4*100\n",
    "print(\"The percentage = \",per4)\n",
    "\n"
   ]
  },
  {
   "cell_type": "code",
   "execution_count": 6,
   "metadata": {},
   "outputs": [
    {
     "name": "stdout",
     "output_type": "stream",
     "text": [
      "The largest number in the given list is =  45\n",
      "The smallest number in the given list is =  1\n",
      "The range =  44\n",
      "\n",
      "ungroup data\n",
      "\n",
      "1 has occurred 5 times\n",
      "2 has occurred 2 times\n",
      "3 has occurred 2 times\n",
      "4 has occurred 2 times\n",
      "5 has occurred 3 times\n",
      "6 has occurred 1 times\n",
      "12 has occurred 2 times\n",
      "23 has occurred 1 times\n",
      "45 has occurred 3 times\n",
      "\n",
      "Enter the frequency for Tally Mark: 5\n",
      "||||-   \n",
      "Enter the frequency for Tally Mark: 2\n",
      "||\n",
      "Enter the frequency for Tally Mark: 2\n",
      "||\n",
      "Enter the frequency for Tally Mark: 2\n",
      "||\n",
      "Enter the frequency for Tally Mark: 3\n",
      "|||\n",
      "Enter the frequency for Tally Mark: 1\n",
      "|\n",
      "Enter the frequency for Tally Mark: 2\n",
      "||\n",
      "Enter the frequency for Tally Mark: 1\n",
      "|\n",
      "Enter the frequency for Tally Mark: 3\n",
      "|||\n",
      "Input array :  [ 1  2  3  4  5  6 12  1  2  3  4  1 12 23 45 45 45  1  1  5  5]\n",
      "cumulative sum of array elements:  [  1   3   6  10  15  21  33  34  36  39  43  44  56  79 124 169 214 215\n",
      " 216 221 226]\n"
     ]
    }
   ],
   "source": [
    "from collections import Counter \n",
    "import numpy as geek\n",
    "Number=geek.array([1,2,3,4,5,6\n",
    "        ,12,1,2,3,4\n",
    "        ,1,12,23,45\n",
    "        ,45,45,1,1,\n",
    "        5,5])\n",
    "large=max(Number)\n",
    "print(\"The largest number in the given list is = \",large)\n",
    "small=min(Number)\n",
    "print(\"The smallest number in the given list is = \",small)\n",
    "range_1=(large)-(small)\n",
    "print(\"The range = \",range_1)\n",
    "if(range_1>5):\n",
    "    print(\"\\nungroup data\")\n",
    "else:\n",
    "    print(\"grounp data\")\n",
    "x=1\n",
    "d = Counter(Number) \n",
    "print('\\n{} has occurred {} times'.format(x, d[x]))\n",
    "x=2\n",
    "d = Counter(Number) \n",
    "print('{} has occurred {} times'.format(x, d[x]))\n",
    "x=3\n",
    "d = Counter(Number) \n",
    "print('{} has occurred {} times'.format(x, d[x]))\n",
    "x = 4\n",
    "d = Counter(Number) \n",
    "print('{} has occurred {} times'.format(x, d[x]))\n",
    "x = 5\n",
    "d = Counter(Number) \n",
    "print('{} has occurred {} times'.format(x, d[x]))\n",
    "x = 6\n",
    "d = Counter(Number) \n",
    "print('{} has occurred {} times'.format(x, d[x]))\n",
    "x = 12\n",
    "d = Counter(Number) \n",
    "print('{} has occurred {} times'.format(x, d[x]))\n",
    "x = 23\n",
    "d = Counter(Number) \n",
    "print('{} has occurred {} times'.format(x, d[x]))\n",
    "x = 45\n",
    "d = Counter(Number) \n",
    "print('{} has occurred {} times'.format(x, d[x])) \n",
    "number1 = int(input(\"\\nEnter the frequency for Tally Mark: \"))\n",
    "quotient = number1 // 5\n",
    "remainder = number1 % 5\n",
    "tallyMarks = \"||||-   \" * quotient + \"|\" * remainder\n",
    "print(tallyMarks)\n",
    "\n",
    "number2 = int(input(\"Enter the frequency for Tally Mark: \"))\n",
    "quotient = number2 // 5\n",
    "remainder = number2 % 5\n",
    "tallyMarks = \"||||-   \" * quotient + \"|\" * remainder\n",
    "print(tallyMarks)\n",
    "\n",
    "number3 = int(input(\"Enter the frequency for Tally Mark: \"))\n",
    "quotient = number3 // 5\n",
    "remainder = number3 % 5\n",
    "tallyMarks = \"||||-   \" * quotient + \"|\" * remainder\n",
    "print(tallyMarks)\n",
    "number1 = int(input(\"Enter the frequency for Tally Mark: \"))\n",
    "quotient = number1 // 5\n",
    "remainder = number1 % 5\n",
    "tallyMarks = \"||||-   \" * quotient + \"|\" * remainder\n",
    "print(tallyMarks)\n",
    "\n",
    "number2 = int(input(\"Enter the frequency for Tally Mark: \"))\n",
    "quotient = number2 // 5\n",
    "remainder = number2 % 5\n",
    "tallyMarks = \"||||-   \" * quotient + \"|\" * remainder\n",
    "print(tallyMarks)\n",
    "\n",
    "number3 = int(input(\"Enter the frequency for Tally Mark: \"))\n",
    "quotient = number3 // 5\n",
    "remainder = number3 % 5\n",
    "tallyMarks = \"||||-   \" * quotient + \"|\" * remainder\n",
    "print(tallyMarks)\n",
    "number1 = int(input(\"Enter the frequency for Tally Mark: \"))\n",
    "quotient = number1 // 5\n",
    "remainder = number1 % 5\n",
    "tallyMarks = \"||||-   \" * quotient + \"|\" * remainder\n",
    "print(tallyMarks)\n",
    "\n",
    "number2 = int(input(\"Enter the frequency for Tally Mark: \"))\n",
    "quotient = number2 // 5\n",
    "remainder = number2 % 5\n",
    "tallyMarks = \"||||-   \" * quotient + \"|\" * remainder\n",
    "print(tallyMarks)\n",
    "number1 = int(input(\"Enter the frequency for Tally Mark: \"))\n",
    "quotient = number1 // 5\n",
    "remainder = number1 % 5\n",
    "tallyMarks = \"||||-   \" * quotient + \"|\" * remainder\n",
    "print(tallyMarks)    \n",
    "print (\"Input array : \", Number)  \n",
    "out_sum = geek.cumsum(Number)  \n",
    "print (\"cumulative sum of array elements: \", out_sum) \n",
    "add"
   ]
  },
  {
   "cell_type": "markdown",
   "metadata": {},
   "source": [
    " "
   ]
  }
 ],
 "metadata": {
  "kernelspec": {
   "display_name": "Python 3",
   "language": "python",
   "name": "python3"
  },
  "language_info": {
   "codemirror_mode": {
    "name": "ipython",
    "version": 3
   },
   "file_extension": ".py",
   "mimetype": "text/x-python",
   "name": "python",
   "nbconvert_exporter": "python",
   "pygments_lexer": "ipython3",
   "version": "3.7.4"
  }
 },
 "nbformat": 4,
 "nbformat_minor": 2
}
